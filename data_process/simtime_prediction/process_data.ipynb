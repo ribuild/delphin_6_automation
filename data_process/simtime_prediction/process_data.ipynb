{
 "cells": [
  {
   "cell_type": "code",
   "execution_count": 1,
   "metadata": {},
   "outputs": [],
   "source": [
    "import os\n",
    "import pandas as pd\n",
    "import matplotlib.pyplot as plt\n",
    "import numpy as np\n",
    "%matplotlib inline\n"
   ]
  },
  {
   "cell_type": "code",
   "execution_count": 2,
   "metadata": {},
   "outputs": [
    {
     "data": {
      "text/plain": [
       "(642, 22)"
      ]
     },
     "execution_count": 2,
     "metadata": {},
     "output_type": "execute_result"
    }
   ],
   "source": [
    "data_folder = r'C:\\Users\\ocni\\PycharmProjects\\delphin_6_automation\\data_process\\simtime_prediction\\data'\n",
    "excel_file = os.path.join(data_folder, 'sim_time.xlsx')\n",
    "\n",
    "data = pd.read_excel(excel_file)\n",
    "data.shape"
   ]
  },
  {
   "cell_type": "code",
   "execution_count": 3,
   "metadata": {},
   "outputs": [
    {
     "data": {
      "text/plain": [
       "Text(0.5,0,'Simulation Time in minutes')"
      ]
     },
     "execution_count": 3,
     "metadata": {},
     "output_type": "execute_result"
    },
    {
     "data": {
      "image/png": "[encoded data removed]",
      "text/plain": [
       "<Figure size 1280x640 with 1 Axes>"
      ]
     },
     "metadata": {},
     "output_type": "display_data"
    }
   ],
   "source": [
    "plt.figure(figsize=(16, 8), dpi= 80, facecolor='w', edgecolor='k')\n",
    "(data['time'][data['time'] < 1500 * 60] / 60).plot('hist', bins=50)\n",
    "plt.xlabel('Simulation Time in minutes')\n",
    "#plt.savefig('simulation_time_histogram.png')"
   ]
  },
  {
   "cell_type": "code",
   "execution_count": 4,
   "metadata": {},
   "outputs": [
    {
     "name": "stderr",
     "output_type": "stream",
     "text": [
      "c:\\users\\ocni\\appdata\\local\\continuum\\anaconda3\\envs\\ribuild\\lib\\site-packages\\sklearn\\utils\\__init__.py:4: DeprecationWarning: Using or importing the ABCs from 'collections' instead of from 'collections.abc' is deprecated, and in 3.8 it will stop working\n",
      "  from collections import Sequence\n"
     ]
    }
   ],
   "source": [
    "from sklearn.model_selection import train_test_split\n",
    "from sklearn import linear_model\n",
    "from sklearn.preprocessing import MinMaxScaler\n",
    "from sklearn.preprocessing import PolynomialFeatures\n",
    "from sklearn.neighbors import KNeighborsRegressor"
   ]
  },
  {
   "cell_type": "code",
   "execution_count": 5,
   "metadata": {},
   "outputs": [
    {
     "name": "stderr",
     "output_type": "stream",
     "text": [
      "c:\\users\\ocni\\appdata\\local\\continuum\\anaconda3\\envs\\ribuild\\lib\\site-packages\\pandas\\core\\indexing.py:543: SettingWithCopyWarning: \n",
      "A value is trying to be set on a copy of a slice from a DataFrame.\n",
      "Try using .loc[row_indexer,col_indexer] = value instead\n",
      "\n",
      "See the caveats in the documentation: http://pandas.pydata.org/pandas-docs/stable/indexing.html#indexing-view-versus-copy\n",
      "  self.obj[item] = s\n"
     ]
    },
    {
     "data": {
      "text/html": [
       "<div>\n",
       "<style scoped>\n",
       "    .dataframe tbody tr th:only-of-type {\n",
       "        vertical-align: middle;\n",
       "    }\n",
       "\n",
       "    .dataframe tbody tr th {\n",
       "        vertical-align: top;\n",
       "    }\n",
       "\n",
       "    .dataframe thead th {\n",
       "        text-align: right;\n",
       "    }\n",
       "</style>\n",
       "<table border=\"1\" class=\"dataframe\">\n",
       "  <thead>\n",
       "    <tr style=\"text-align: right;\">\n",
       "      <th></th>\n",
       "      <th>exterior heat transfer coefficient slope</th>\n",
       "      <th>exterior moisture transfer coefficient</th>\n",
       "      <th>solar absorption</th>\n",
       "      <th>rain scale factor</th>\n",
       "      <th>interior heat transfer coefficient</th>\n",
       "      <th>interior moisture transfer coefficient</th>\n",
       "      <th>interior sd value</th>\n",
       "      <th>wall orientation</th>\n",
       "      <th>wall core width</th>\n",
       "      <th>wall core material</th>\n",
       "      <th>...</th>\n",
       "      <th>plaster material</th>\n",
       "      <th>start year</th>\n",
       "      <th>exterior climate</th>\n",
       "      <th>interior climate</th>\n",
       "      <th>exterior_plaster</th>\n",
       "      <th>system_name</th>\n",
       "      <th>insulation_material</th>\n",
       "      <th>finish_material</th>\n",
       "      <th>detail_material</th>\n",
       "      <th>insulation_thickness</th>\n",
       "    </tr>\n",
       "  </thead>\n",
       "  <tbody>\n",
       "    <tr>\n",
       "      <th>0</th>\n",
       "      <td>3.947266</td>\n",
       "      <td>5.652344e-09</td>\n",
       "      <td>0.40625</td>\n",
       "      <td>0.339844</td>\n",
       "      <td>8.671875</td>\n",
       "      <td>4.843750e-09</td>\n",
       "      <td>0.023438</td>\n",
       "      <td>11.25</td>\n",
       "      <td>0.8</td>\n",
       "      <td>563</td>\n",
       "      <td>...</td>\n",
       "      <td>148</td>\n",
       "      <td>2020</td>\n",
       "      <td>1.0</td>\n",
       "      <td>0</td>\n",
       "      <td>True</td>\n",
       "      <td>0</td>\n",
       "      <td>0.0</td>\n",
       "      <td>0.0</td>\n",
       "      <td>0.0</td>\n",
       "      <td>0.0</td>\n",
       "    </tr>\n",
       "    <tr>\n",
       "      <th>1</th>\n",
       "      <td>3.947266</td>\n",
       "      <td>5.652344e-09</td>\n",
       "      <td>0.40625</td>\n",
       "      <td>0.339844</td>\n",
       "      <td>8.671875</td>\n",
       "      <td>4.843750e-09</td>\n",
       "      <td>0.023438</td>\n",
       "      <td>11.25</td>\n",
       "      <td>0.8</td>\n",
       "      <td>563</td>\n",
       "      <td>...</td>\n",
       "      <td>148</td>\n",
       "      <td>2020</td>\n",
       "      <td>1.0</td>\n",
       "      <td>0</td>\n",
       "      <td>False</td>\n",
       "      <td>0</td>\n",
       "      <td>0.0</td>\n",
       "      <td>0.0</td>\n",
       "      <td>0.0</td>\n",
       "      <td>0.0</td>\n",
       "    </tr>\n",
       "    <tr>\n",
       "      <th>2</th>\n",
       "      <td>3.947266</td>\n",
       "      <td>5.652344e-09</td>\n",
       "      <td>0.40625</td>\n",
       "      <td>0.339844</td>\n",
       "      <td>8.671875</td>\n",
       "      <td>4.843750e-09</td>\n",
       "      <td>0.023438</td>\n",
       "      <td>11.25</td>\n",
       "      <td>0.8</td>\n",
       "      <td>563</td>\n",
       "      <td>...</td>\n",
       "      <td>148</td>\n",
       "      <td>2020</td>\n",
       "      <td>1.0</td>\n",
       "      <td>0</td>\n",
       "      <td>True</td>\n",
       "      <td>1</td>\n",
       "      <td>707.0</td>\n",
       "      <td>722.0</td>\n",
       "      <td>705.0</td>\n",
       "      <td>25.0</td>\n",
       "    </tr>\n",
       "    <tr>\n",
       "      <th>3</th>\n",
       "      <td>3.947266</td>\n",
       "      <td>5.652344e-09</td>\n",
       "      <td>0.40625</td>\n",
       "      <td>0.339844</td>\n",
       "      <td>8.671875</td>\n",
       "      <td>4.843750e-09</td>\n",
       "      <td>0.023438</td>\n",
       "      <td>11.25</td>\n",
       "      <td>0.8</td>\n",
       "      <td>563</td>\n",
       "      <td>...</td>\n",
       "      <td>148</td>\n",
       "      <td>2020</td>\n",
       "      <td>1.0</td>\n",
       "      <td>0</td>\n",
       "      <td>True</td>\n",
       "      <td>1</td>\n",
       "      <td>707.0</td>\n",
       "      <td>722.0</td>\n",
       "      <td>705.0</td>\n",
       "      <td>30.0</td>\n",
       "    </tr>\n",
       "    <tr>\n",
       "      <th>4</th>\n",
       "      <td>3.947266</td>\n",
       "      <td>5.652344e-09</td>\n",
       "      <td>0.40625</td>\n",
       "      <td>0.339844</td>\n",
       "      <td>8.671875</td>\n",
       "      <td>4.843750e-09</td>\n",
       "      <td>0.023438</td>\n",
       "      <td>11.25</td>\n",
       "      <td>0.8</td>\n",
       "      <td>563</td>\n",
       "      <td>...</td>\n",
       "      <td>148</td>\n",
       "      <td>2020</td>\n",
       "      <td>1.0</td>\n",
       "      <td>0</td>\n",
       "      <td>True</td>\n",
       "      <td>1</td>\n",
       "      <td>707.0</td>\n",
       "      <td>722.0</td>\n",
       "      <td>705.0</td>\n",
       "      <td>50.0</td>\n",
       "    </tr>\n",
       "  </tbody>\n",
       "</table>\n",
       "<p>5 rows × 21 columns</p>\n",
       "</div>"
      ],
      "text/plain": [
       "   exterior heat transfer coefficient slope  \\\n",
       "0                                  3.947266   \n",
       "1                                  3.947266   \n",
       "2                                  3.947266   \n",
       "3                                  3.947266   \n",
       "4                                  3.947266   \n",
       "\n",
       "   exterior moisture transfer coefficient  solar absorption  \\\n",
       "0                            5.652344e-09           0.40625   \n",
       "1                            5.652344e-09           0.40625   \n",
       "2                            5.652344e-09           0.40625   \n",
       "3                            5.652344e-09           0.40625   \n",
       "4                            5.652344e-09           0.40625   \n",
       "\n",
       "   rain scale factor  interior heat transfer coefficient  \\\n",
       "0           0.339844                            8.671875   \n",
       "1           0.339844                            8.671875   \n",
       "2           0.339844                            8.671875   \n",
       "3           0.339844                            8.671875   \n",
       "4           0.339844                            8.671875   \n",
       "\n",
       "   interior moisture transfer coefficient  interior sd value  \\\n",
       "0                            4.843750e-09           0.023438   \n",
       "1                            4.843750e-09           0.023438   \n",
       "2                            4.843750e-09           0.023438   \n",
       "3                            4.843750e-09           0.023438   \n",
       "4                            4.843750e-09           0.023438   \n",
       "\n",
       "   wall orientation  wall core width  wall core material  \\\n",
       "0             11.25              0.8                 563   \n",
       "1             11.25              0.8                 563   \n",
       "2             11.25              0.8                 563   \n",
       "3             11.25              0.8                 563   \n",
       "4             11.25              0.8                 563   \n",
       "\n",
       "           ...           plaster material  start year  exterior climate  \\\n",
       "0          ...                        148        2020               1.0   \n",
       "1          ...                        148        2020               1.0   \n",
       "2          ...                        148        2020               1.0   \n",
       "3          ...                        148        2020               1.0   \n",
       "4          ...                        148        2020               1.0   \n",
       "\n",
       "   interior climate  exterior_plaster  system_name  insulation_material  \\\n",
       "0                 0              True            0                  0.0   \n",
       "1                 0             False            0                  0.0   \n",
       "2                 0              True            1                707.0   \n",
       "3                 0              True            1                707.0   \n",
       "4                 0              True            1                707.0   \n",
       "\n",
       "   finish_material  detail_material  insulation_thickness  \n",
       "0              0.0              0.0                   0.0  \n",
       "1              0.0              0.0                   0.0  \n",
       "2            722.0            705.0                  25.0  \n",
       "3            722.0            705.0                  30.0  \n",
       "4            722.0            705.0                  50.0  \n",
       "\n",
       "[5 rows x 21 columns]"
      ]
     },
     "execution_count": 5,
     "metadata": {},
     "output_type": "execute_result"
    }
   ],
   "source": [
    "y_data = data['time']\n",
    "\n",
    "x_data = data.loc[:, data.columns != 'time']\n",
    "x_data.loc[:, 'exterior climate'] = np.ones(len(x_data['exterior climate']))\n",
    "x_data = x_data.fillna(0.0)\n",
    "x_data.loc[x_data.loc[:, 'interior climate'] == 'a', 'interior climate'] = 0.0\n",
    "x_data.loc[x_data.loc[:, 'interior climate'] == 'b', 'interior climate'] = 1.0\n",
    "x_data.loc[x_data.loc[:, 'system_name'] == 'ClimateBoard', 'system_name'] = 1.0\n",
    "x_data.head()"
   ]
  },
  {
   "cell_type": "code",
   "execution_count": 6,
   "metadata": {},
   "outputs": [],
   "source": [
    "X_train, X_test, y_train, y_test = train_test_split(x_data, y_data, random_state=0)"
   ]
  },
  {
   "cell_type": "code",
   "execution_count": 16,
   "metadata": {},
   "outputs": [
    {
     "name": "stdout",
     "output_type": "stream",
     "text": [
      "linear model intercept: -69634.13298424921\n",
      "linear model coeff:\n",
      "[-5.07160940e+02 -2.82722740e+12 -1.27683566e+04  2.94733331e+04\n",
      "  1.20472021e+03  1.14201809e+12  1.50517269e+04  2.30144067e+01\n",
      " -1.21212712e+03  3.57547918e+01 -7.82660789e+05  3.61945265e+00\n",
      "  4.42304048e+01  2.26718839e-07  2.37031227e+03 -5.02094730e+04\n",
      " -2.10968157e+05  8.96493937e+02 -2.92199664e+02 -2.99245613e+02\n",
      " -1.68989133e+00]\n",
      "R-squared score (training): 0.611\n",
      "R-squared score (test): 0.526\n",
      "Number of non-zero features: 21\n"
     ]
    }
   ],
   "source": [
    "# Linear Model\n",
    "linreg = linear_model.LinearRegression(normalize=True)\n",
    "linreg.fit(X_train, y_train)\n",
    "\n",
    "print('linear model intercept: {}'.format(linreg.intercept_))\n",
    "print('linear model coeff:\\n{}'.format(linreg.coef_))\n",
    "print('R-squared score (training): {:.3f}'.format(linreg.score(X_train, y_train)))\n",
    "print('R-squared score (test): {:.3f}'.format(linreg.score(X_test, y_test)))\n",
    "print('Number of non-zero features: {}'.format(np.sum(linreg.coef_ != 0)))"
   ]
  },
  {
   "cell_type": "code",
   "execution_count": 15,
   "metadata": {},
   "outputs": [
    {
     "name": "stdout",
     "output_type": "stream",
     "text": [
      "ridge regression linear model intercept: 194260.12074234092\n",
      "ridge regression linear model coeff:\n",
      "[ 9.48842199e+02 -1.55559217e-04 -1.18282948e+03  2.58604855e+04\n",
      "  4.05257278e+02  4.54087346e-05  5.80936189e+03  1.41521867e+01\n",
      "  4.47637137e+03  5.13893534e+01 -5.96239621e+01 -2.04493795e+00\n",
      " -1.01210777e+02  0.00000000e+00  1.78980494e+03 -4.22859026e+04\n",
      "  6.06101773e-03 -7.37588403e+00  4.37605482e+00  4.27301751e+00\n",
      " -2.48799883e+00]\n",
      "R-squared score (training): 0.583\n",
      "R-squared score (test): 0.507\n",
      "Number of non-zero features: 20\n"
     ]
    }
   ],
   "source": [
    "# Ridge Model\n",
    "\n",
    "linridge = linear_model.Ridge(alpha=20.0).fit(X_train, y_train)\n",
    "\n",
    "print('ridge regression linear model intercept: {}'.format(linridge.intercept_))\n",
    "print('ridge regression linear model coeff:\\n{}'.format(linridge.coef_))\n",
    "print('R-squared score (training): {:.3f}'.format(linridge.score(X_train, y_train)))\n",
    "print('R-squared score (test): {:.3f}'.format(linridge.score(X_test, y_test)))\n",
    "print('Number of non-zero features: {}'.format(np.sum(linridge.coef_ != 0)))\n"
   ]
  },
  {
   "cell_type": "code",
   "execution_count": 14,
   "metadata": {},
   "outputs": [
    {
     "name": "stdout",
     "output_type": "stream",
     "text": [
      "ridge regression linear model intercept: 19136.780094223308\n",
      "ridge regression linear model coeff:\n",
      "[  4223.94819695 -11501.24094764  -2129.56399145  33807.08827084\n",
      "   1995.74958643   6680.9960668    9872.30560744   8018.43562794\n",
      "   -140.00605097   8130.73921101   -527.60183468    911.79501018\n",
      "   -602.73817147      0.           5492.10996152 -41880.18086263\n",
      "     87.85452439     90.02295004     87.85452439     87.85452439\n",
      "   -115.59063321]\n",
      "R-squared score (training): 0.578\n",
      "R-squared score (test): 0.492\n",
      "Number of non-zero features: 20\n"
     ]
    }
   ],
   "source": [
    "# Ridge Model Normalized\n",
    "scaler = MinMaxScaler()\n",
    "X_train_scaled = scaler.fit_transform(X_train)\n",
    "X_test_scaled = scaler.transform(X_test)\n",
    "\n",
    "linridge_normal = linear_model.Ridge(alpha=20.0).fit(X_train_scaled, y_train)\n",
    "\n",
    "print('ridge regression linear model intercept: {}'.format(linridge_normal.intercept_))\n",
    "print('ridge regression linear model coeff:\\n{}'.format(linridge_normal.coef_))\n",
    "print('R-squared score (training): {:.3f}'.format(linridge_normal.score(X_train_scaled, y_train)))\n",
    "print('R-squared score (test): {:.3f}'.format(linridge_normal.score(X_test_scaled, y_test)))\n",
    "print('Number of non-zero features: {}'.format(np.sum(linridge_normal.coef_ != 0)))"
   ]
  },
  {
   "cell_type": "code",
   "execution_count": 12,
   "metadata": {},
   "outputs": [
    {
     "name": "stdout",
     "output_type": "stream",
     "text": [
      "R-squared train score: 0.91228\n",
      "R-squared test score: 0.79857\n"
     ]
    }
   ],
   "source": [
    "# K-nearest regression - 5 neighbors\n",
    "scaler = MinMaxScaler()\n",
    "X_train_scaled = scaler.fit_transform(X_train)\n",
    "X_test_scaled = scaler.transform(X_test)\n",
    "knn_reg5_uni = KNeighborsRegressor(n_neighbors=5).fit(X_train_scaled, y_train)\n",
    "\n",
    "#print(knn_reg5_uni.predict(X_test_scaled))\n",
    "print('R-squared train score: {:.5f}'.format(knn_reg5_uni.score(X_train_scaled, y_train)))\n",
    "print('R-squared test score: {:.5f}'.format(knn_reg5_uni.score(X_test_scaled, y_test)))"
   ]
  },
  {
   "cell_type": "code",
   "execution_count": 10,
   "metadata": {},
   "outputs": [
    {
     "name": "stdout",
     "output_type": "stream",
     "text": [
      "R-squared train score: 0.94890\n",
      "R-squared test score: 0.88663\n"
     ]
    }
   ],
   "source": [
    "# K-nearest regression - 3 neighbors\n",
    "scaler = MinMaxScaler()\n",
    "X_train_scaled = scaler.fit_transform(X_train)\n",
    "X_test_scaled = scaler.transform(X_test)\n",
    "knn_reg5_uni = KNeighborsRegressor(n_neighbors=3).fit(X_train_scaled, y_train)\n",
    "\n",
    "#print(knn_reg5_uni.predict(X_test_scaled))\n",
    "print('R-squared train score: {:.5f}'.format(knn_reg5_uni.score(X_train_scaled, y_train)))\n",
    "print('R-squared test score: {:.5f}'.format(knn_reg5_uni.score(X_test_scaled, y_test)))"
   ]
  },
  {
   "cell_type": "code",
   "execution_count": 11,
   "metadata": {},
   "outputs": [
    {
     "name": "stdout",
     "output_type": "stream",
     "text": [
      "R-squared train score: 1.00000\n",
      "R-squared test score: 0.90437\n"
     ]
    }
   ],
   "source": [
    "# K-nearest regression - 5 neighbors, weights = distance\n",
    "scaler = MinMaxScaler()\n",
    "X_train_scaled = scaler.fit_transform(X_train)\n",
    "X_test_scaled = scaler.transform(X_test)\n",
    "knn_reg5 = KNeighborsRegressor(n_neighbors=3, weights='distance').fit(X_train_scaled, y_train)\n",
    "\n",
    "#print(knn_reg5.predict(X_test_scaled))\n",
    "print('R-squared train score: {:.5f}'.format(knn_reg5.score(X_train_scaled, y_train)))\n",
    "print('R-squared test score: {:.5f}'.format(knn_reg5.score(X_test_scaled, y_test)))"
   ]
  },
  {
   "cell_type": "code",
   "execution_count": 7,
   "metadata": {},
   "outputs": [
    {
     "name": "stdout",
     "output_type": "stream",
     "text": [
      "Average R-squared test score: 0.93537\n"
     ]
    }
   ],
   "source": [
    "from sklearn.model_selection import ShuffleSplit\n",
    "\n",
    "ss = ShuffleSplit(n_splits=5, test_size=0.25, random_state=47)\n",
    "scaler = MinMaxScaler()\n",
    "\n",
    "test_scores = []\n",
    "for train_index, test_index in ss.split(x_data):\n",
    "    x_train = scaler.fit_transform(x_data.iloc[train_index, :])\n",
    "    x_test = scaler.transform(x_data.iloc[test_index, :])\n",
    "    y_train = y_data.iloc[train_index]\n",
    "    y_test = y_data.iloc[test_index]\n",
    "    knn_reg = KNeighborsRegressor(n_neighbors=5, weights='distance').fit(x_train, y_train)\n",
    "    #knn_reg = KNeighborsRegressor(n_neighbors=5).fit(x_train, y_train)\n",
    "    test_scores.append(knn_reg.score(x_test, y_test))\n",
    "\n",
    "mean_score = np.mean(test_scores)\n",
    "print(f'Average R-squared test score: {mean_score:.5f}')"
   ]
  },
  {
   "cell_type": "code",
   "execution_count": 8,
   "metadata": {},
   "outputs": [
    {
     "name": "stdout",
     "output_type": "stream",
     "text": [
      "Accuracy: 0.93490 (+/- 0.02834)\n"
     ]
    }
   ],
   "source": [
    "# Cross Validation Score\n",
    "from sklearn.model_selection import ShuffleSplit\n",
    "from sklearn.model_selection import cross_val_score\n",
    "\n",
    "ss = ShuffleSplit(n_splits=7, test_size=0.25, random_state=47)\n",
    "scaler = MinMaxScaler()\n",
    "knn_reg = KNeighborsRegressor(n_neighbors=5, weights='distance')\n",
    "#knn_reg = KNeighborsRegressor(n_neighbors=5)\n",
    "test_scores = cross_val_score(knn_reg, scaler.fit_transform(x_data), y_data, cv=ss)\n",
    "\n",
    "print(f'Accuracy: {test_scores.mean():.5f} (+/- {test_scores.std()*2:.5f})')"
   ]
  },
  {
   "cell_type": "code",
   "execution_count": 9,
   "metadata": {},
   "outputs": [
    {
     "name": "stdout",
     "output_type": "stream",
     "text": [
      "Feature                                    Accuracy\n",
      "exterior_plaster                         - -0.99059\n",
      "insulation_thickness                     - 0.57721\n",
      "rain scale factor                        - 0.92279\n",
      "exterior moisture transfer coefficient   - 0.92815\n",
      "interior climate                         - 0.92992\n",
      "plaster width                            - 0.93080\n",
      "wall orientation                         - 0.93101\n",
      "interior heat transfer coefficient       - 0.93121\n",
      "wall core width                          - 0.93160\n",
      "start year                               - 0.93284\n",
      "exterior heat transfer coefficient slope - 0.93348\n",
      "wall core material                       - 0.93365\n",
      "interior moisture transfer coefficient   - 0.93383\n",
      "interior sd value                        - 0.93408\n",
      "plaster material                         - 0.93477\n",
      "exterior climate                         - 0.93490\n",
      "system_name                              - 0.93490\n",
      "finish_material                          - 0.93490\n",
      "detail_material                          - 0.93490\n",
      "solar absorption                         - 0.93515\n",
      "insulation_material                      - 0.93532\n"
     ]
    }
   ],
   "source": [
    "# Feature Importance\n",
    "features = x_data.columns\n",
    "\n",
    "feature_scores = []\n",
    "for feat in features:\n",
    "    feature_less_data = x_data.loc[:, x_data.columns != feat]\n",
    "    test_scores = cross_val_score(knn_reg, scaler.fit_transform(feature_less_data), y_data, cv=ss, scoring='r2')\n",
    "    feature_scores.append((feat, test_scores.mean()))\n",
    "\n",
    "feature_scores = sorted(feature_scores, key=lambda x: x[1])\n",
    "width = len('exterior heat transfer coefficient slope')\n",
    "print('Feature'.ljust(width, ' ') + '   Accuracy')  \n",
    "for i in feature_scores:\n",
    "    print(f'{i[0].ljust(width, \" \")} - {i[1]:.5f}')"
   ]
  },
  {
   "cell_type": "code",
   "execution_count": null,
   "metadata": {},
   "outputs": [],
   "source": []
  }
 ],
 "metadata": {
  "kernelspec": {
   "display_name": "Python 3",
   "language": "python",
   "name": "python3"
  },
  "language_info": {
   "codemirror_mode": {
    "name": "ipython",
    "version": 3
   },
   "file_extension": ".py",
   "mimetype": "text/x-python",
   "name": "python",
   "nbconvert_exporter": "python",
   "pygments_lexer": "ipython3",
   "version": "3.7.0"
  }
 },
 "nbformat": 4,
 "nbformat_minor": 1
}
