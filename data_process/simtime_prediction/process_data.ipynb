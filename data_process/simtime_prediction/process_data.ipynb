{
 "cells": [
  {
   "cell_type": "code",
   "execution_count": 2,
   "metadata": {},
   "outputs": [
    {
     "data": {
      "text/html": [
       "<script>requirejs.config({paths: { 'plotly': ['https://cdn.plot.ly/plotly-latest.min']},});if(!window.Plotly) {{require(['plotly'],function(plotly) {window.Plotly=plotly;});}}</script>"
      ]
     },
     "metadata": {},
     "output_type": "execute_result"
    }
   ],
   "source": [
    "import os\n",
    "import pandas as pd\n",
    "import matplotlib.pyplot as plt\n",
    "import numpy as np\n",
    "import plotly.plotly as py\n",
    "from plotly.offline import download_plotlyjs, init_notebook_mode, plot, iplot\n",
    "import plotly.graph_objs as go\n",
    "init_notebook_mode(connected=True)\n",
    "%matplotlib inline\n"
   ]
  },
  {
   "cell_type": "code",
   "execution_count": 4,
   "metadata": {},
   "outputs": [
    {
     "data": {
      "text/plain": [
       "(820, 22)"
      ]
     },
     "execution_count": 4,
     "metadata": {},
     "output_type": "execute_result"
    }
   ],
   "source": [
    "data_folder = r'C:\\Users\\ocni\\PycharmProjects\\delphin_6_automation\\data_process\\simtime_prediction\\data'\n",
    "excel_file = os.path.join(data_folder, 'sim_time.xlsx')\n",
    "\n",
    "data = pd.read_excel(excel_file)\n",
    "data.shape"
   ]
  },
  {
   "cell_type": "code",
   "execution_count": 5,
   "metadata": {},
   "outputs": [
    {
     "data": {
      "text/plain": [
       "Text(0.5,0,'Simulation Time in minutes')"
      ]
     },
     "execution_count": 5,
     "metadata": {},
     "output_type": "execute_result"
    },
    {
     "data": {
      "image/png": "[encoded data removed]",
      "text/plain": [
       "<Figure size 1280x640 with 1 Axes>"
      ]
     },
     "metadata": {},
     "output_type": "display_data"
    }
   ],
   "source": [
    "plt.figure(figsize=(16, 8), dpi= 80, facecolor='w', edgecolor='k')\n",
    "(data['time'][data['time'] < 1500 * 60] / 60).plot('hist', bins=50)\n",
    "plt.xlabel('Simulation Time in minutes')\n",
    "#plt.savefig('simulation_time_histogram.png')"
   ]
  },
  {
   "cell_type": "code",
   "execution_count": 6,
   "metadata": {},
   "outputs": [
    {
     "name": "stderr",
     "output_type": "stream",
     "text": [
      "C:\\Users\\ocni\\AppData\\Local\\Continuum\\anaconda3\\envs\\ribuild\\lib\\site-packages\\sklearn\\utils\\__init__.py:4: DeprecationWarning:\n",
      "\n",
      "Using or importing the ABCs from 'collections' instead of from 'collections.abc' is deprecated, and in 3.8 it will stop working\n",
      "\n"
     ]
    }
   ],
   "source": [
    "from sklearn.model_selection import train_test_split\n",
    "from sklearn import linear_model\n",
    "from sklearn.preprocessing import MinMaxScaler\n",
    "from sklearn.preprocessing import PolynomialFeatures\n",
    "from sklearn.neighbors import KNeighborsRegressor"
   ]
  },
  {
   "cell_type": "code",
   "execution_count": 7,
   "metadata": {},
   "outputs": [
    {
     "name": "stderr",
     "output_type": "stream",
     "text": [
      "C:\\Users\\ocni\\AppData\\Local\\Continuum\\anaconda3\\envs\\ribuild\\lib\\site-packages\\pandas\\core\\indexing.py:543: SettingWithCopyWarning:\n",
      "\n",
      "\n",
      "A value is trying to be set on a copy of a slice from a DataFrame.\n",
      "Try using .loc[row_indexer,col_indexer] = value instead\n",
      "\n",
      "See the caveats in the documentation: http://pandas.pydata.org/pandas-docs/stable/indexing.html#indexing-view-versus-copy\n",
      "\n"
     ]
    },
    {
     "data": {
      "text/html": [
       "<div>\n",
       "<style scoped>\n",
       "    .dataframe tbody tr th:only-of-type {\n",
       "        vertical-align: middle;\n",
       "    }\n",
       "\n",
       "    .dataframe tbody tr th {\n",
       "        vertical-align: top;\n",
       "    }\n",
       "\n",
       "    .dataframe thead th {\n",
       "        text-align: right;\n",
       "    }\n",
       "</style>\n",
       "<table border=\"1\" class=\"dataframe\">\n",
       "  <thead>\n",
       "    <tr style=\"text-align: right;\">\n",
       "      <th></th>\n",
       "      <th>exterior heat transfer coefficient slope</th>\n",
       "      <th>exterior moisture transfer coefficient</th>\n",
       "      <th>solar absorption</th>\n",
       "      <th>rain scale factor</th>\n",
       "      <th>interior heat transfer coefficient</th>\n",
       "      <th>interior moisture transfer coefficient</th>\n",
       "      <th>interior sd value</th>\n",
       "      <th>wall orientation</th>\n",
       "      <th>wall core width</th>\n",
       "      <th>wall core material</th>\n",
       "      <th>...</th>\n",
       "      <th>plaster material</th>\n",
       "      <th>start year</th>\n",
       "      <th>exterior climate</th>\n",
       "      <th>interior climate</th>\n",
       "      <th>exterior_plaster</th>\n",
       "      <th>system_name</th>\n",
       "      <th>insulation_material</th>\n",
       "      <th>finish_material</th>\n",
       "      <th>detail_material</th>\n",
       "      <th>insulation_thickness</th>\n",
       "    </tr>\n",
       "  </thead>\n",
       "  <tbody>\n",
       "    <tr>\n",
       "      <th>0</th>\n",
       "      <td>3.947266</td>\n",
       "      <td>5.652344e-09</td>\n",
       "      <td>0.40625</td>\n",
       "      <td>0.339844</td>\n",
       "      <td>8.671875</td>\n",
       "      <td>4.843750e-09</td>\n",
       "      <td>0.023438</td>\n",
       "      <td>11.25</td>\n",
       "      <td>0.8</td>\n",
       "      <td>563</td>\n",
       "      <td>...</td>\n",
       "      <td>148</td>\n",
       "      <td>2020</td>\n",
       "      <td>1.0</td>\n",
       "      <td>0</td>\n",
       "      <td>True</td>\n",
       "      <td>0</td>\n",
       "      <td>0.0</td>\n",
       "      <td>0.0</td>\n",
       "      <td>0.0</td>\n",
       "      <td>0.0</td>\n",
       "    </tr>\n",
       "    <tr>\n",
       "      <th>1</th>\n",
       "      <td>3.947266</td>\n",
       "      <td>5.652344e-09</td>\n",
       "      <td>0.40625</td>\n",
       "      <td>0.339844</td>\n",
       "      <td>8.671875</td>\n",
       "      <td>4.843750e-09</td>\n",
       "      <td>0.023438</td>\n",
       "      <td>11.25</td>\n",
       "      <td>0.8</td>\n",
       "      <td>563</td>\n",
       "      <td>...</td>\n",
       "      <td>148</td>\n",
       "      <td>2020</td>\n",
       "      <td>1.0</td>\n",
       "      <td>0</td>\n",
       "      <td>False</td>\n",
       "      <td>0</td>\n",
       "      <td>0.0</td>\n",
       "      <td>0.0</td>\n",
       "      <td>0.0</td>\n",
       "      <td>0.0</td>\n",
       "    </tr>\n",
       "    <tr>\n",
       "      <th>2</th>\n",
       "      <td>3.947266</td>\n",
       "      <td>5.652344e-09</td>\n",
       "      <td>0.40625</td>\n",
       "      <td>0.339844</td>\n",
       "      <td>8.671875</td>\n",
       "      <td>4.843750e-09</td>\n",
       "      <td>0.023438</td>\n",
       "      <td>11.25</td>\n",
       "      <td>0.8</td>\n",
       "      <td>563</td>\n",
       "      <td>...</td>\n",
       "      <td>148</td>\n",
       "      <td>2020</td>\n",
       "      <td>1.0</td>\n",
       "      <td>0</td>\n",
       "      <td>True</td>\n",
       "      <td>1</td>\n",
       "      <td>707.0</td>\n",
       "      <td>722.0</td>\n",
       "      <td>705.0</td>\n",
       "      <td>25.0</td>\n",
       "    </tr>\n",
       "    <tr>\n",
       "      <th>3</th>\n",
       "      <td>3.947266</td>\n",
       "      <td>5.652344e-09</td>\n",
       "      <td>0.40625</td>\n",
       "      <td>0.339844</td>\n",
       "      <td>8.671875</td>\n",
       "      <td>4.843750e-09</td>\n",
       "      <td>0.023438</td>\n",
       "      <td>11.25</td>\n",
       "      <td>0.8</td>\n",
       "      <td>563</td>\n",
       "      <td>...</td>\n",
       "      <td>148</td>\n",
       "      <td>2020</td>\n",
       "      <td>1.0</td>\n",
       "      <td>0</td>\n",
       "      <td>True</td>\n",
       "      <td>1</td>\n",
       "      <td>707.0</td>\n",
       "      <td>722.0</td>\n",
       "      <td>705.0</td>\n",
       "      <td>30.0</td>\n",
       "    </tr>\n",
       "    <tr>\n",
       "      <th>4</th>\n",
       "      <td>3.947266</td>\n",
       "      <td>5.652344e-09</td>\n",
       "      <td>0.40625</td>\n",
       "      <td>0.339844</td>\n",
       "      <td>8.671875</td>\n",
       "      <td>4.843750e-09</td>\n",
       "      <td>0.023438</td>\n",
       "      <td>11.25</td>\n",
       "      <td>0.8</td>\n",
       "      <td>563</td>\n",
       "      <td>...</td>\n",
       "      <td>148</td>\n",
       "      <td>2020</td>\n",
       "      <td>1.0</td>\n",
       "      <td>0</td>\n",
       "      <td>True</td>\n",
       "      <td>1</td>\n",
       "      <td>707.0</td>\n",
       "      <td>722.0</td>\n",
       "      <td>705.0</td>\n",
       "      <td>50.0</td>\n",
       "    </tr>\n",
       "  </tbody>\n",
       "</table>\n",
       "<p>5 rows × 21 columns</p>\n",
       "</div>"
      ],
      "text/plain": [
       "   exterior heat transfer coefficient slope  \\\n",
       "0                                  3.947266   \n",
       "1                                  3.947266   \n",
       "2                                  3.947266   \n",
       "3                                  3.947266   \n",
       "4                                  3.947266   \n",
       "\n",
       "   exterior moisture transfer coefficient  solar absorption  \\\n",
       "0                            5.652344e-09           0.40625   \n",
       "1                            5.652344e-09           0.40625   \n",
       "2                            5.652344e-09           0.40625   \n",
       "3                            5.652344e-09           0.40625   \n",
       "4                            5.652344e-09           0.40625   \n",
       "\n",
       "   rain scale factor  interior heat transfer coefficient  \\\n",
       "0           0.339844                            8.671875   \n",
       "1           0.339844                            8.671875   \n",
       "2           0.339844                            8.671875   \n",
       "3           0.339844                            8.671875   \n",
       "4           0.339844                            8.671875   \n",
       "\n",
       "   interior moisture transfer coefficient  interior sd value  \\\n",
       "0                            4.843750e-09           0.023438   \n",
       "1                            4.843750e-09           0.023438   \n",
       "2                            4.843750e-09           0.023438   \n",
       "3                            4.843750e-09           0.023438   \n",
       "4                            4.843750e-09           0.023438   \n",
       "\n",
       "   wall orientation  wall core width  wall core material  \\\n",
       "0             11.25              0.8                 563   \n",
       "1             11.25              0.8                 563   \n",
       "2             11.25              0.8                 563   \n",
       "3             11.25              0.8                 563   \n",
       "4             11.25              0.8                 563   \n",
       "\n",
       "           ...           plaster material  start year  exterior climate  \\\n",
       "0          ...                        148        2020               1.0   \n",
       "1          ...                        148        2020               1.0   \n",
       "2          ...                        148        2020               1.0   \n",
       "3          ...                        148        2020               1.0   \n",
       "4          ...                        148        2020               1.0   \n",
       "\n",
       "   interior climate  exterior_plaster  system_name  insulation_material  \\\n",
       "0                 0              True            0                  0.0   \n",
       "1                 0             False            0                  0.0   \n",
       "2                 0              True            1                707.0   \n",
       "3                 0              True            1                707.0   \n",
       "4                 0              True            1                707.0   \n",
       "\n",
       "   finish_material  detail_material  insulation_thickness  \n",
       "0              0.0              0.0                   0.0  \n",
       "1              0.0              0.0                   0.0  \n",
       "2            722.0            705.0                  25.0  \n",
       "3            722.0            705.0                  30.0  \n",
       "4            722.0            705.0                  50.0  \n",
       "\n",
       "[5 rows x 21 columns]"
      ]
     },
     "execution_count": 7,
     "metadata": {},
     "output_type": "execute_result"
    }
   ],
   "source": [
    "y_data = data['time']\n",
    "\n",
    "x_data = data.loc[:, data.columns != 'time']\n",
    "x_data.loc[:, 'exterior climate'] = np.ones(len(x_data['exterior climate']))\n",
    "x_data = x_data.fillna(0.0)\n",
    "x_data.loc[x_data.loc[:, 'interior climate'] == 'a', 'interior climate'] = 0.0\n",
    "x_data.loc[x_data.loc[:, 'interior climate'] == 'b', 'interior climate'] = 1.0\n",
    "x_data.loc[x_data.loc[:, 'system_name'] == 'ClimateBoard', 'system_name'] = 1.0\n",
    "x_data.head()"
   ]
  },
  {
   "cell_type": "code",
   "execution_count": 43,
   "metadata": {},
   "outputs": [
    {
     "data": {
      "text/plain": [
       "Index(['exterior heat transfer coefficient slope',\n",
       "       'exterior moisture transfer coefficient', 'solar absorption',\n",
       "       'rain scale factor', 'interior heat transfer coefficient',\n",
       "       'interior moisture transfer coefficient', 'interior sd value',\n",
       "       'wall orientation', 'wall core width', 'wall core material',\n",
       "       'plaster width', 'plaster material', 'start year', 'exterior climate',\n",
       "       'interior climate', 'exterior_plaster', 'system_name',\n",
       "       'insulation_material', 'finish_material', 'detail_material',\n",
       "       'insulation_thickness'],\n",
       "      dtype='object')"
      ]
     },
     "execution_count": 43,
     "metadata": {},
     "output_type": "execute_result"
    }
   ],
   "source": [
    "x_data.columns"
   ]
  },
  {
   "cell_type": "code",
   "execution_count": 8,
   "metadata": {},
   "outputs": [
    {
     "data": {
      "text/plain": [
       "'file://C:\\\\Users\\\\ocni\\\\PycharmProjects\\\\delphin_6_automation\\\\data_process\\\\simtime_prediction\\\\sim_time.html'"
      ]
     },
     "execution_count": 8,
     "metadata": {},
     "output_type": "execute_result"
    }
   ],
   "source": [
    "processed_data = x_data.assign(time=y_data/60)\n",
    "\n",
    "data = [\n",
    "    go.Parcoords(\n",
    "        line = dict(color = processed_data['time'],\n",
    "                   colorscale = 'Jet',\n",
    "                   showscale = True,\n",
    "                   #reversescale = True,\n",
    "                   cmin = 0,\n",
    "                   cmax = 1500),\n",
    "                   \n",
    "        dimensions = list([\n",
    "            dict(range = [0,1440],\n",
    "                label = 'Time', values = processed_data['time']),\n",
    "            dict(range = [0, 5],\n",
    "                label = 'exterior heat transfer coefficient slope', values = processed_data['exterior heat transfer coefficient slope']),\n",
    "            dict(range = [4 * 10 ** -9, 10 ** -8],\n",
    "                label = 'exterior moisture transfer coefficient', values = processed_data['exterior moisture transfer coefficient']),\n",
    "            dict(range = [0.4, 0.8],\n",
    "                label = 'solar absorption', values = processed_data['solar absorption']),\n",
    "            dict(range = [0.0, 2.0],\n",
    "                label = 'rain scale factor', values = processed_data['rain scale factor']),\n",
    "            dict(range = [0.0, 1.0],\n",
    "                label = 'interior climate', values = processed_data['interior climate']),\n",
    "            dict(range = [4.0, 11.0],\n",
    "                label = 'interior heat transfer coefficient', values = processed_data['interior heat transfer coefficient']),\n",
    "            dict(range = [4 * 10 ** -9, 10 ** -8],\n",
    "                label = 'interior moisture transfer coefficient', values = processed_data['interior moisture transfer coefficient']),\n",
    "            dict(range = [0.0, 0.6],\n",
    "                label = 'interior sd value', values = processed_data['interior sd value']),\n",
    "            dict(range = [0.0, 360.0],\n",
    "                label = 'wall orientation', values = processed_data['wall orientation']),\n",
    "            dict(range = [0.0, 1.0],\n",
    "                label = 'wall core width', values = processed_data['wall core width']),\n",
    "            dict(range = [0.0, 1000],\n",
    "                label = 'wall core material', values = processed_data['wall core material']),\n",
    "            dict(range = [0.01, 0.02],\n",
    "                label = 'plaster width', values = processed_data['plaster width']),\n",
    "            dict(range = [0.0, 1000],\n",
    "                label = 'plaster material', values = processed_data['plaster material']),\n",
    "            \n",
    "            dict(range = [0.0, 1.0],\n",
    "                label = 'exterior_plaster', values = processed_data['exterior_plaster']),\n",
    "            \n",
    "            dict(range = [0.0, 1.0],\n",
    "                label = 'system_name', values = processed_data['system_name']),\n",
    "            \n",
    "            dict(range = [0.0, 1000],\n",
    "                label = 'insulation_material', values = processed_data['insulation_material']),\n",
    "            \n",
    "            dict(range = [0.0, 1000],\n",
    "                label = 'finish_material', values = processed_data['finish_material']),\n",
    "            \n",
    "            dict(range = [0.0, 1000],\n",
    "                label = 'detail_material', values = processed_data['detail_material']),\n",
    "            \n",
    "            dict(range = [0.0, 200],\n",
    "                label = 'insulation_thickness', values = processed_data['insulation_thickness']),\n",
    "        ])\n",
    "    )\n",
    "]\n",
    "\n",
    "layout = go.Layout(\n",
    "    plot_bgcolor = '#E5E5E5',\n",
    "    paper_bgcolor = '#E5E5E5'\n",
    ")\n",
    "\n",
    "fig = go.Figure(data = data, layout = layout)\n",
    "plot(fig, filename = 'sim_time.html')"
   ]
  },
  {
   "cell_type": "code",
   "execution_count": 9,
   "metadata": {},
   "outputs": [],
   "source": [
    "X_train, X_test, y_train, y_test = train_test_split(x_data, y_data, random_state=0)"
   ]
  },
  {
   "cell_type": "code",
   "execution_count": 34,
   "metadata": {},
   "outputs": [
    {
     "name": "stdout",
     "output_type": "stream",
     "text": [
      "linear model intercept: -146431.29552704975\n",
      "linear model coeff:\n",
      "[-4.09653786e+02 -2.48836794e+12 -3.92131130e+04  3.63188011e+04\n",
      "  1.82838075e+03  8.26817586e+11  8.86351351e+03  2.94954564e+01\n",
      " -1.57734295e+04  1.71150520e+01 -1.32381981e+06  1.42113206e+00\n",
      "  9.40148182e+01  4.84287739e-08  2.85372498e+03 -4.65635883e+04\n",
      " -4.53371303e+05  1.92677646e+03 -6.27938092e+02 -6.43079862e+02\n",
      "  8.15260132e+01]\n",
      "R-squared score (training): 0.545\n",
      "R-squared score (test): 0.549\n",
      "Number of non-zero features: 21\n"
     ]
    }
   ],
   "source": [
    "# Linear Model\n",
    "linreg = linear_model.LinearRegression(normalize=True)\n",
    "linreg.fit(X_train, y_train)\n",
    "\n",
    "print('linear model intercept: {}'.format(linreg.intercept_))\n",
    "print('linear model coeff:\\n{}'.format(linreg.coef_))\n",
    "print('R-squared score (training): {:.3f}'.format(linreg.score(X_train, y_train)))\n",
    "print('R-squared score (test): {:.3f}'.format(linreg.score(X_test, y_test)))\n",
    "print('Number of non-zero features: {}'.format(np.sum(linreg.coef_ != 0)))"
   ]
  },
  {
   "cell_type": "code",
   "execution_count": 35,
   "metadata": {},
   "outputs": [
    {
     "name": "stdout",
     "output_type": "stream",
     "text": [
      "ridge regression linear model intercept: 78381.54698385712\n",
      "ridge regression linear model coeff:\n",
      "[ 3.55197589e+03 -1.68362695e-04 -9.22775583e+03  3.07627741e+04\n",
      "  7.34655980e+02 -6.90125302e-06  1.22217217e+03  1.55624350e+01\n",
      " -2.67256126e+03  2.13822170e+01 -1.35188189e+02  2.37796653e+00\n",
      " -4.32085689e+01  0.00000000e+00  4.33097842e+03 -4.05853062e+04\n",
      " -9.23015498e-01  1.33161123e+03 -6.66417197e+02 -6.50725931e+02\n",
      "  8.33959649e+01]\n",
      "R-squared score (training): 0.518\n",
      "R-squared score (test): 0.550\n",
      "Number of non-zero features: 20\n"
     ]
    }
   ],
   "source": [
    "# Ridge Model\n",
    "\n",
    "linridge = linear_model.Ridge(alpha=20.0).fit(X_train, y_train)\n",
    "\n",
    "print('ridge regression linear model intercept: {}'.format(linridge.intercept_))\n",
    "print('ridge regression linear model coeff:\\n{}'.format(linridge.coef_))\n",
    "print('R-squared score (training): {:.3f}'.format(linridge.score(X_train, y_train)))\n",
    "print('R-squared score (test): {:.3f}'.format(linridge.score(X_test, y_test)))\n",
    "print('Number of non-zero features: {}'.format(np.sum(linridge.coef_ != 0)))\n"
   ]
  },
  {
   "cell_type": "code",
   "execution_count": 36,
   "metadata": {},
   "outputs": [
    {
     "name": "stdout",
     "output_type": "stream",
     "text": [
      "ridge regression linear model intercept: 21661.145894062258\n",
      "ridge regression linear model coeff:\n",
      "[  5289.96379689  -8990.85243356 -10456.25598679  44117.63336173\n",
      "   3130.60446854   3364.63711955   4699.43280863   8184.84571239\n",
      "  -5698.66258618   3106.23984627  -2836.91333498   1872.1691941\n",
      "    193.80241927      0.           6322.96189902 -39865.76892907\n",
      "    403.61838467    420.78672864    403.61838467    403.61838467\n",
      "   4724.67851213]\n",
      "R-squared score (training): 0.515\n",
      "R-squared score (test): 0.574\n",
      "Number of non-zero features: 20\n"
     ]
    }
   ],
   "source": [
    "# Ridge Model Normalized\n",
    "scaler = MinMaxScaler()\n",
    "X_train_scaled = scaler.fit_transform(X_train)\n",
    "X_test_scaled = scaler.transform(X_test)\n",
    "\n",
    "linridge_normal = linear_model.Ridge(alpha=20.0).fit(X_train_scaled, y_train)\n",
    "\n",
    "print('ridge regression linear model intercept: {}'.format(linridge_normal.intercept_))\n",
    "print('ridge regression linear model coeff:\\n{}'.format(linridge_normal.coef_))\n",
    "print('R-squared score (training): {:.3f}'.format(linridge_normal.score(X_train_scaled, y_train)))\n",
    "print('R-squared score (test): {:.3f}'.format(linridge_normal.score(X_test_scaled, y_test)))\n",
    "print('Number of non-zero features: {}'.format(np.sum(linridge_normal.coef_ != 0)))"
   ]
  },
  {
   "cell_type": "code",
   "execution_count": 37,
   "metadata": {},
   "outputs": [
    {
     "name": "stdout",
     "output_type": "stream",
     "text": [
      "R-squared train score: 0.89719\n",
      "R-squared test score: 0.85134\n"
     ]
    }
   ],
   "source": [
    "# K-nearest regression - 5 neighbors\n",
    "scaler = MinMaxScaler()\n",
    "X_train_scaled = scaler.fit_transform(X_train)\n",
    "X_test_scaled = scaler.transform(X_test)\n",
    "knn_reg5_uni = KNeighborsRegressor(n_neighbors=5).fit(X_train_scaled, y_train)\n",
    "\n",
    "#print(knn_reg5_uni.predict(X_test_scaled))\n",
    "print('R-squared train score: {:.5f}'.format(knn_reg5_uni.score(X_train_scaled, y_train)))\n",
    "print('R-squared test score: {:.5f}'.format(knn_reg5_uni.score(X_test_scaled, y_test)))"
   ]
  },
  {
   "cell_type": "code",
   "execution_count": 38,
   "metadata": {},
   "outputs": [
    {
     "name": "stdout",
     "output_type": "stream",
     "text": [
      "R-squared train score: 0.94754\n",
      "R-squared test score: 0.90024\n"
     ]
    }
   ],
   "source": [
    "# K-nearest regression - 3 neighbors\n",
    "scaler = MinMaxScaler()\n",
    "X_train_scaled = scaler.fit_transform(X_train)\n",
    "X_test_scaled = scaler.transform(X_test)\n",
    "knn_reg5_uni = KNeighborsRegressor(n_neighbors=3).fit(X_train_scaled, y_train)\n",
    "\n",
    "#print(knn_reg5_uni.predict(X_test_scaled))\n",
    "print('R-squared train score: {:.5f}'.format(knn_reg5_uni.score(X_train_scaled, y_train)))\n",
    "print('R-squared test score: {:.5f}'.format(knn_reg5_uni.score(X_test_scaled, y_test)))"
   ]
  },
  {
   "cell_type": "code",
   "execution_count": 8,
   "metadata": {},
   "outputs": [
    {
     "name": "stdout",
     "output_type": "stream",
     "text": [
      "R-squared train score: 1.00000\n",
      "R-squared test score: 0.84340\n"
     ]
    }
   ],
   "source": [
    "# K-nearest regression - 5 neighbors, weights = distance\n",
    "scaler = MinMaxScaler()\n",
    "X_train_scaled = scaler.fit_transform(X_train)\n",
    "X_test_scaled = scaler.transform(X_test)\n",
    "knn_reg5 = KNeighborsRegressor(n_neighbors=3, weights='distance').fit(X_train_scaled, y_train)\n",
    "\n",
    "#print(knn_reg5.predict(X_test_scaled))\n",
    "print('R-squared train score: {:.5f}'.format(knn_reg5.score(X_train_scaled, y_train)))\n",
    "print('R-squared test score: {:.5f}'.format(knn_reg5.score(X_test_scaled, y_test)))"
   ]
  },
  {
   "cell_type": "code",
   "execution_count": 10,
   "metadata": {},
   "outputs": [
    {
     "name": "stdout",
     "output_type": "stream",
     "text": [
      "Average R-squared test score: 0.90742\n"
     ]
    }
   ],
   "source": [
    "from sklearn.model_selection import ShuffleSplit\n",
    "\n",
    "ss = ShuffleSplit(n_splits=5, test_size=0.25, random_state=47)\n",
    "scaler = MinMaxScaler()\n",
    "\n",
    "test_scores = []\n",
    "for train_index, test_index in ss.split(x_data):\n",
    "    x_train = scaler.fit_transform(x_data.iloc[train_index, :])\n",
    "    x_test = scaler.transform(x_data.iloc[test_index, :])\n",
    "    y_train = y_data.iloc[train_index]\n",
    "    y_test = y_data.iloc[test_index]\n",
    "    knn_reg = KNeighborsRegressor(n_neighbors=5, weights='distance').fit(x_train, y_train)\n",
    "    #knn_reg = KNeighborsRegressor(n_neighbors=5).fit(x_train, y_train)\n",
    "    test_scores.append(knn_reg.score(x_test, y_test))\n",
    "\n",
    "mean_score = np.mean(test_scores)\n",
    "print(f'Average R-squared test score: {mean_score:.5f}')"
   ]
  },
  {
   "cell_type": "code",
   "execution_count": 13,
   "metadata": {},
   "outputs": [
    {
     "name": "stdout",
     "output_type": "stream",
     "text": [
      "Accuracy: 0.90742 (+/- 0.06277)\n"
     ]
    }
   ],
   "source": [
    "# Cross Validation Score\n",
    "from sklearn.model_selection import ShuffleSplit\n",
    "from sklearn.model_selection import cross_val_score\n",
    "\n",
    "ss = ShuffleSplit(n_splits=5, test_size=0.25, random_state=47)\n",
    "scaler = MinMaxScaler()\n",
    "knn_reg = KNeighborsRegressor(n_neighbors=5, weights='distance')\n",
    "#knn_reg = KNeighborsRegressor(n_neighbors=5)\n",
    "test_scores = cross_val_score(knn_reg, scaler.fit_transform(x_data), y_data, cv=ss)\n",
    "\n",
    "print(f'Accuracy: {test_scores.mean():.5f} (+/- {test_scores.std()*2:.5f})')"
   ]
  },
  {
   "cell_type": "code",
   "execution_count": 14,
   "metadata": {},
   "outputs": [
    {
     "name": "stdout",
     "output_type": "stream",
     "text": [
      "Feature                                    Accuracy\n",
      "exterior_plaster                         - -0.77377\n",
      "insulation_thickness                     - 0.62347\n",
      "exterior moisture transfer coefficient   - 0.89356\n",
      "solar absorption                         - 0.89547\n",
      "interior moisture transfer coefficient   - 0.89565\n",
      "plaster width                            - 0.89720\n",
      "exterior heat transfer coefficient slope - 0.89822\n",
      "rain scale factor                        - 0.89874\n",
      "interior climate                         - 0.90398\n",
      "interior sd value                        - 0.90464\n",
      "insulation_material                      - 0.90695\n",
      "exterior climate                         - 0.90742\n",
      "system_name                              - 0.90742\n",
      "finish_material                          - 0.90742\n",
      "detail_material                          - 0.90742\n",
      "wall core material                       - 0.90840\n",
      "interior heat transfer coefficient       - 0.90962\n",
      "wall core width                          - 0.90963\n",
      "plaster material                         - 0.91069\n",
      "wall orientation                         - 0.91083\n",
      "start year                               - 0.91259\n"
     ]
    }
   ],
   "source": [
    "# Feature Importance\n",
    "features = x_data.columns\n",
    "\n",
    "feature_scores = []\n",
    "for feat in features:\n",
    "    feature_less_data = x_data.loc[:, x_data.columns != feat]\n",
    "    test_scores = cross_val_score(knn_reg, scaler.fit_transform(feature_less_data), y_data, cv=ss, scoring='r2')\n",
    "    feature_scores.append((feat, test_scores.mean()))\n",
    "\n",
    "feature_scores = sorted(feature_scores, key=lambda x: x[1])\n",
    "width = len('exterior heat transfer coefficient slope')\n",
    "print('Feature'.ljust(width, ' ') + '   Accuracy')  \n",
    "for i in feature_scores:\n",
    "    print(f'{i[0].ljust(width, \" \")} - {i[1]:.5f}')"
   ]
  },
  {
   "cell_type": "code",
   "execution_count": null,
   "metadata": {},
   "outputs": [],
   "source": []
  }
 ],
 "metadata": {
  "kernelspec": {
   "display_name": "Python 3",
   "language": "python",
   "name": "python3"
  },
  "language_info": {
   "codemirror_mode": {
    "name": "ipython",
    "version": 3
   },
   "file_extension": ".py",
   "mimetype": "text/x-python",
   "name": "python",
   "nbconvert_exporter": "python",
   "pygments_lexer": "ipython3",
   "version": "3.7.0"
  }
 },
 "nbformat": 4,
 "nbformat_minor": 1
}
