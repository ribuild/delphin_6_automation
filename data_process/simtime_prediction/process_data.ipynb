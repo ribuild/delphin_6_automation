{
 "cells": [
  {
   "cell_type": "code",
   "execution_count": 1,
   "metadata": {},
   "outputs": [],
   "source": [
    "import os\n",
    "import pandas as pd\n",
    "import matplotlib.pyplot as plt\n",
    "import numpy as np\n",
    "%matplotlib inline\n"
   ]
  },
  {
   "cell_type": "code",
   "execution_count": 3,
   "metadata": {},
   "outputs": [
    {
     "data": {
      "text/plain": [
       "(579, 22)"
      ]
     },
     "execution_count": 3,
     "metadata": {},
     "output_type": "execute_result"
    }
   ],
   "source": [
    "data_folder = r'C:\\Users\\ocni\\PycharmProjects\\delphin_6_automation\\data_process\\simtime_prediction\\data'\n",
    "excel_file = os.path.join(data_folder, 'sim_time.xlsx')\n",
    "\n",
    "data = pd.read_excel(excel_file)\n",
    "data.shape"
   ]
  },
  {
   "cell_type": "code",
   "execution_count": 18,
   "metadata": {
    "collapsed": false
   },
   "outputs": [
    {
     "data": {
      "image/png": "[encoded data removed]",
      "text/plain": [
       "<Figure size 1280x640 with 1 Axes>"
      ]
     },
     "metadata": {},
     "output_type": "display_data"
    }
   ],
   "source": [
    "plt.figure(figsize=(16, 8), dpi= 80, facecolor='w', edgecolor='k')\n",
    "(data['time'][data['time'] < 1500 * 60] / 60).plot('hist', bins=50)\n",
    "plt.xlabel('Simulation Time in minutes')\n",
    "plt.savefig('simulation_time_histogram.png')"
   ]
  },
  {
   "cell_type": "code",
   "execution_count": 6,
   "metadata": {},
   "outputs": [
    {
     "name": "stderr",
     "output_type": "stream",
     "text": [
      "C:\\Users\\ocni\\AppData\\Local\\Continuum\\anaconda3\\envs\\ribuild\\lib\\site-packages\\sklearn\\utils\\__init__.py:4: DeprecationWarning: Using or importing the ABCs from 'collections' instead of from 'collections.abc' is deprecated, and in 3.8 it will stop working\n  from collections import Sequence\n"
     ]
    }
   ],
   "source": [
    "from sklearn.model_selection import train_test_split\n",
    "from sklearn import linear_model\n",
    "from sklearn.preprocessing import MinMaxScaler\n",
    "from sklearn.preprocessing import PolynomialFeatures\n",
    "from sklearn.neighbors import KNeighborsRegressor"
   ]
  },
  {
   "cell_type": "code",
   "execution_count": 9,
   "metadata": {},
   "outputs": [
    {
     "name": "stderr",
     "output_type": "stream",
     "text": [
      "C:\\Users\\ocni\\AppData\\Local\\Continuum\\anaconda3\\envs\\ribuild\\lib\\site-packages\\pandas\\core\\indexing.py:543: SettingWithCopyWarning: \nA value is trying to be set on a copy of a slice from a DataFrame.\nTry using .loc[row_indexer,col_indexer] = value instead\n\nSee the caveats in the documentation: http://pandas.pydata.org/pandas-docs/stable/indexing.html#indexing-view-versus-copy\n  self.obj[item] = s\n"
     ]
    },
    {
     "data": {
      "text/html": [
       "<div>\n",
       "<style scoped>\n",
       "    .dataframe tbody tr th:only-of-type {\n",
       "        vertical-align: middle;\n",
       "    }\n",
       "\n",
       "    .dataframe tbody tr th {\n",
       "        vertical-align: top;\n",
       "    }\n",
       "\n",
       "    .dataframe thead th {\n",
       "        text-align: right;\n",
       "    }\n",
       "</style>\n",
       "<table border=\"1\" class=\"dataframe\">\n",
       "  <thead>\n",
       "    <tr style=\"text-align: right;\">\n",
       "      <th></th>\n",
       "      <th>exterior heat transfer coefficient slope</th>\n",
       "      <th>exterior moisture transfer coefficient</th>\n",
       "      <th>solar absorption</th>\n",
       "      <th>rain scale factor</th>\n",
       "      <th>interior heat transfer coefficient</th>\n",
       "      <th>interior moisture transfer coefficient</th>\n",
       "      <th>interior sd value</th>\n",
       "      <th>wall orientation</th>\n",
       "      <th>wall core width</th>\n",
       "      <th>wall core material</th>\n",
       "      <th>...</th>\n",
       "      <th>plaster material</th>\n",
       "      <th>start year</th>\n",
       "      <th>exterior climate</th>\n",
       "      <th>interior climate</th>\n",
       "      <th>exterior_plaster</th>\n",
       "      <th>system_name</th>\n",
       "      <th>insulation_material</th>\n",
       "      <th>finish_material</th>\n",
       "      <th>detail_material</th>\n",
       "      <th>insulation_thickness</th>\n",
       "    </tr>\n",
       "  </thead>\n",
       "  <tbody>\n",
       "    <tr>\n",
       "      <th>0</th>\n",
       "      <td>3.947266</td>\n",
       "      <td>5.652344e-09</td>\n",
       "      <td>0.40625</td>\n",
       "      <td>0.339844</td>\n",
       "      <td>8.671875</td>\n",
       "      <td>4.843750e-09</td>\n",
       "      <td>0.023438</td>\n",
       "      <td>11.25</td>\n",
       "      <td>0.8</td>\n",
       "      <td>563</td>\n",
       "      <td>...</td>\n",
       "      <td>148</td>\n",
       "      <td>2020</td>\n",
       "      <td>1.0</td>\n",
       "      <td>0</td>\n",
       "      <td>True</td>\n",
       "      <td>0</td>\n",
       "      <td>0.0</td>\n",
       "      <td>0.0</td>\n",
       "      <td>0.0</td>\n",
       "      <td>0.0</td>\n",
       "    </tr>\n",
       "    <tr>\n",
       "      <th>1</th>\n",
       "      <td>3.947266</td>\n",
       "      <td>5.652344e-09</td>\n",
       "      <td>0.40625</td>\n",
       "      <td>0.339844</td>\n",
       "      <td>8.671875</td>\n",
       "      <td>4.843750e-09</td>\n",
       "      <td>0.023438</td>\n",
       "      <td>11.25</td>\n",
       "      <td>0.8</td>\n",
       "      <td>563</td>\n",
       "      <td>...</td>\n",
       "      <td>148</td>\n",
       "      <td>2020</td>\n",
       "      <td>1.0</td>\n",
       "      <td>0</td>\n",
       "      <td>False</td>\n",
       "      <td>0</td>\n",
       "      <td>0.0</td>\n",
       "      <td>0.0</td>\n",
       "      <td>0.0</td>\n",
       "      <td>0.0</td>\n",
       "    </tr>\n",
       "    <tr>\n",
       "      <th>2</th>\n",
       "      <td>3.947266</td>\n",
       "      <td>5.652344e-09</td>\n",
       "      <td>0.40625</td>\n",
       "      <td>0.339844</td>\n",
       "      <td>8.671875</td>\n",
       "      <td>4.843750e-09</td>\n",
       "      <td>0.023438</td>\n",
       "      <td>11.25</td>\n",
       "      <td>0.8</td>\n",
       "      <td>563</td>\n",
       "      <td>...</td>\n",
       "      <td>148</td>\n",
       "      <td>2020</td>\n",
       "      <td>1.0</td>\n",
       "      <td>0</td>\n",
       "      <td>True</td>\n",
       "      <td>1</td>\n",
       "      <td>707.0</td>\n",
       "      <td>722.0</td>\n",
       "      <td>705.0</td>\n",
       "      <td>25.0</td>\n",
       "    </tr>\n",
       "    <tr>\n",
       "      <th>3</th>\n",
       "      <td>3.947266</td>\n",
       "      <td>5.652344e-09</td>\n",
       "      <td>0.40625</td>\n",
       "      <td>0.339844</td>\n",
       "      <td>8.671875</td>\n",
       "      <td>4.843750e-09</td>\n",
       "      <td>0.023438</td>\n",
       "      <td>11.25</td>\n",
       "      <td>0.8</td>\n",
       "      <td>563</td>\n",
       "      <td>...</td>\n",
       "      <td>148</td>\n",
       "      <td>2020</td>\n",
       "      <td>1.0</td>\n",
       "      <td>0</td>\n",
       "      <td>True</td>\n",
       "      <td>1</td>\n",
       "      <td>707.0</td>\n",
       "      <td>722.0</td>\n",
       "      <td>705.0</td>\n",
       "      <td>30.0</td>\n",
       "    </tr>\n",
       "    <tr>\n",
       "      <th>4</th>\n",
       "      <td>3.947266</td>\n",
       "      <td>5.652344e-09</td>\n",
       "      <td>0.40625</td>\n",
       "      <td>0.339844</td>\n",
       "      <td>8.671875</td>\n",
       "      <td>4.843750e-09</td>\n",
       "      <td>0.023438</td>\n",
       "      <td>11.25</td>\n",
       "      <td>0.8</td>\n",
       "      <td>563</td>\n",
       "      <td>...</td>\n",
       "      <td>148</td>\n",
       "      <td>2020</td>\n",
       "      <td>1.0</td>\n",
       "      <td>0</td>\n",
       "      <td>True</td>\n",
       "      <td>1</td>\n",
       "      <td>707.0</td>\n",
       "      <td>722.0</td>\n",
       "      <td>705.0</td>\n",
       "      <td>50.0</td>\n",
       "    </tr>\n",
       "  </tbody>\n",
       "</table>\n",
       "<p>5 rows × 21 columns</p>\n",
       "</div>"
      ],
      "text/plain": [
       "<div>\n",
       "<style scoped>\n",
       "    .dataframe tbody tr th:only-of-type {\n",
       "        vertical-align: middle;\n",
       "    }\n",
       "\n",
       "    .dataframe tbody tr th {\n",
       "        vertical-align: top;\n",
       "    }\n",
       "\n",
       "    .dataframe thead th {\n",
       "        text-align: right;\n",
       "    }\n",
       "</style>\n",
       "<table border=\"1\" class=\"dataframe\">\n",
       "  <thead>\n",
       "    <tr style=\"text-align: right;\">\n",
       "      <th></th>\n",
       "      <th>exterior heat transfer coefficient slope</th>\n",
       "      <th>exterior moisture transfer coefficient</th>\n",
       "      <th>solar absorption</th>\n",
       "      <th>rain scale factor</th>\n",
       "      <th>interior heat transfer coefficient</th>\n",
       "      <th>interior moisture transfer coefficient</th>\n",
       "      <th>interior sd value</th>\n",
       "      <th>wall orientation</th>\n",
       "      <th>wall core width</th>\n",
       "      <th>wall core material</th>\n",
       "      <th>...</th>\n",
       "      <th>plaster material</th>\n",
       "      <th>start year</th>\n",
       "      <th>exterior climate</th>\n",
       "      <th>interior climate</th>\n",
       "      <th>exterior_plaster</th>\n",
       "      <th>system_name</th>\n",
       "      <th>insulation_material</th>\n",
       "      <th>finish_material</th>\n",
       "      <th>detail_material</th>\n",
       "      <th>insulation_thickness</th>\n",
       "    </tr>\n",
       "  </thead>\n",
       "  <tbody>\n",
       "    <tr>\n",
       "      <th>0</th>\n",
       "      <td>3.947266</td>\n",
       "      <td>5.652344e-09</td>\n",
       "      <td>0.40625</td>\n",
       "      <td>0.339844</td>\n",
       "      <td>8.671875</td>\n",
       "      <td>4.843750e-09</td>\n",
       "      <td>0.023438</td>\n",
       "      <td>11.25</td>\n",
       "      <td>0.8</td>\n",
       "      <td>563</td>\n",
       "      <td>...</td>\n",
       "      <td>148</td>\n",
       "      <td>2020</td>\n",
       "      <td>1.0</td>\n",
       "      <td>0</td>\n",
       "      <td>True</td>\n",
       "      <td>0</td>\n",
       "      <td>0.0</td>\n",
       "      <td>0.0</td>\n",
       "      <td>0.0</td>\n",
       "      <td>0.0</td>\n",
       "    </tr>\n",
       "    <tr>\n",
       "      <th>1</th>\n",
       "      <td>3.947266</td>\n",
       "      <td>5.652344e-09</td>\n",
       "      <td>0.40625</td>\n",
       "      <td>0.339844</td>\n",
       "      <td>8.671875</td>\n",
       "      <td>4.843750e-09</td>\n",
       "      <td>0.023438</td>\n",
       "      <td>11.25</td>\n",
       "      <td>0.8</td>\n",
       "      <td>563</td>\n",
       "      <td>...</td>\n",
       "      <td>148</td>\n",
       "      <td>2020</td>\n",
       "      <td>1.0</td>\n",
       "      <td>0</td>\n",
       "      <td>False</td>\n",
       "      <td>0</td>\n",
       "      <td>0.0</td>\n",
       "      <td>0.0</td>\n",
       "      <td>0.0</td>\n",
       "      <td>0.0</td>\n",
       "    </tr>\n",
       "    <tr>\n",
       "      <th>2</th>\n",
       "      <td>3.947266</td>\n",
       "      <td>5.652344e-09</td>\n",
       "      <td>0.40625</td>\n",
       "      <td>0.339844</td>\n",
       "      <td>8.671875</td>\n",
       "      <td>4.843750e-09</td>\n",
       "      <td>0.023438</td>\n",
       "      <td>11.25</td>\n",
       "      <td>0.8</td>\n",
       "      <td>563</td>\n",
       "      <td>...</td>\n",
       "      <td>148</td>\n",
       "      <td>2020</td>\n",
       "      <td>1.0</td>\n",
       "      <td>0</td>\n",
       "      <td>True</td>\n",
       "      <td>1</td>\n",
       "      <td>707.0</td>\n",
       "      <td>722.0</td>\n",
       "      <td>705.0</td>\n",
       "      <td>25.0</td>\n",
       "    </tr>\n",
       "    <tr>\n",
       "      <th>3</th>\n",
       "      <td>3.947266</td>\n",
       "      <td>5.652344e-09</td>\n",
       "      <td>0.40625</td>\n",
       "      <td>0.339844</td>\n",
       "      <td>8.671875</td>\n",
       "      <td>4.843750e-09</td>\n",
       "      <td>0.023438</td>\n",
       "      <td>11.25</td>\n",
       "      <td>0.8</td>\n",
       "      <td>563</td>\n",
       "      <td>...</td>\n",
       "      <td>148</td>\n",
       "      <td>2020</td>\n",
       "      <td>1.0</td>\n",
       "      <td>0</td>\n",
       "      <td>True</td>\n",
       "      <td>1</td>\n",
       "      <td>707.0</td>\n",
       "      <td>722.0</td>\n",
       "      <td>705.0</td>\n",
       "      <td>30.0</td>\n",
       "    </tr>\n",
       "    <tr>\n",
       "      <th>4</th>\n",
       "      <td>3.947266</td>\n",
       "      <td>5.652344e-09</td>\n",
       "      <td>0.40625</td>\n",
       "      <td>0.339844</td>\n",
       "      <td>8.671875</td>\n",
       "      <td>4.843750e-09</td>\n",
       "      <td>0.023438</td>\n",
       "      <td>11.25</td>\n",
       "      <td>0.8</td>\n",
       "      <td>563</td>\n",
       "      <td>...</td>\n",
       "      <td>148</td>\n",
       "      <td>2020</td>\n",
       "      <td>1.0</td>\n",
       "      <td>0</td>\n",
       "      <td>True</td>\n",
       "      <td>1</td>\n",
       "      <td>707.0</td>\n",
       "      <td>722.0</td>\n",
       "      <td>705.0</td>\n",
       "      <td>50.0</td>\n",
       "    </tr>\n",
       "  </tbody>\n",
       "</table>\n",
       "<p>5 rows × 21 columns</p>\n",
       "</div>"
      ]
     },
     "execution_count": 9,
     "metadata": {},
     "output_type": "execute_result"
    }
   ],
   "source": [
    "y_data = data['time']\n",
    "\n",
    "x_data = data.loc[:, data.columns != 'time']\n",
    "x_data.loc[:, 'exterior climate'] = np.ones(len(x_data['exterior climate']))\n",
    "x_data = x_data.fillna(0.0)\n",
    "x_data.loc[x_data.loc[:, 'interior climate'] == 'a', 'interior climate'] = 0.0\n",
    "x_data.loc[x_data.loc[:, 'interior climate'] == 'b', 'interior climate'] = 1.0\n",
    "x_data.loc[x_data.loc[:, 'system_name'] == 'ClimateBoard', 'system_name'] = 1.0\n",
    "x_data.head()"
   ]
  },
  {
   "cell_type": "code",
   "execution_count": 10,
   "metadata": {},
   "outputs": [],
   "source": [
    "X_train, X_test, y_train, y_test = train_test_split(x_data, y_data, random_state=0)"
   ]
  },
  {
   "cell_type": "code",
   "execution_count": 16,
   "metadata": {},
   "outputs": [
    {
     "name": "stdout",
     "output_type": "stream",
     "text": [
      "linear model intercept: -69634.13298424921\nlinear model coeff:\n[-5.07160940e+02 -2.82722740e+12 -1.27683566e+04  2.94733331e+04\n  1.20472021e+03  1.14201809e+12  1.50517269e+04  2.30144067e+01\n -1.21212712e+03  3.57547918e+01 -7.82660789e+05  3.61945265e+00\n  4.42304048e+01  2.26718839e-07  2.37031227e+03 -5.02094730e+04\n -2.10968157e+05  8.96493937e+02 -2.92199664e+02 -2.99245613e+02\n -1.68989133e+00]\nR-squared score (training): 0.611\nR-squared score (test): 0.526\nNumber of non-zero features: 21\n"
     ]
    }
   ],
   "source": [
    "# Linear Model\n",
    "linreg = linear_model.LinearRegression(normalize=True)\n",
    "linreg.fit(X_train, y_train)\n",
    "\n",
    "print('linear model intercept: {}'.format(linreg.intercept_))\n",
    "print('linear model coeff:\\n{}'.format(linreg.coef_))\n",
    "print('R-squared score (training): {:.3f}'.format(linreg.score(X_train, y_train)))\n",
    "print('R-squared score (test): {:.3f}'.format(linreg.score(X_test, y_test)))\n",
    "print('Number of non-zero features: {}'.format(np.sum(linreg.coef_ != 0)))"
   ]
  },
  {
   "cell_type": "code",
   "execution_count": 15,
   "metadata": {},
   "outputs": [
    {
     "name": "stdout",
     "output_type": "stream",
     "text": [
      "ridge regression linear model intercept: 194260.12074234092\nridge regression linear model coeff:\n[ 9.48842199e+02 -1.55559217e-04 -1.18282948e+03  2.58604855e+04\n  4.05257278e+02  4.54087346e-05  5.80936189e+03  1.41521867e+01\n  4.47637137e+03  5.13893534e+01 -5.96239621e+01 -2.04493795e+00\n -1.01210777e+02  0.00000000e+00  1.78980494e+03 -4.22859026e+04\n  6.06101773e-03 -7.37588403e+00  4.37605482e+00  4.27301751e+00\n -2.48799883e+00]\nR-squared score (training): 0.583\nR-squared score (test): 0.507\nNumber of non-zero features: 20\n"
     ]
    }
   ],
   "source": [
    "# Ridge Model\n",
    "\n",
    "linridge = linear_model.Ridge(alpha=20.0).fit(X_train, y_train)\n",
    "\n",
    "print('ridge regression linear model intercept: {}'.format(linridge.intercept_))\n",
    "print('ridge regression linear model coeff:\\n{}'.format(linridge.coef_))\n",
    "print('R-squared score (training): {:.3f}'.format(linridge.score(X_train, y_train)))\n",
    "print('R-squared score (test): {:.3f}'.format(linridge.score(X_test, y_test)))\n",
    "print('Number of non-zero features: {}'.format(np.sum(linridge.coef_ != 0)))\n"
   ]
  },
  {
   "cell_type": "code",
   "execution_count": 14,
   "metadata": {},
   "outputs": [
    {
     "name": "stdout",
     "output_type": "stream",
     "text": [
      "ridge regression linear model intercept: 19136.780094223308\nridge regression linear model coeff:\n[  4223.94819695 -11501.24094764  -2129.56399145  33807.08827084\n   1995.74958643   6680.9960668    9872.30560744   8018.43562794\n   -140.00605097   8130.73921101   -527.60183468    911.79501018\n   -602.73817147      0.           5492.10996152 -41880.18086263\n     87.85452439     90.02295004     87.85452439     87.85452439\n   -115.59063321]\nR-squared score (training): 0.578\nR-squared score (test): 0.492\nNumber of non-zero features: 20\n"
     ]
    }
   ],
   "source": [
    "# Ridge Model Normalized\n",
    "scaler = MinMaxScaler()\n",
    "X_train_scaled = scaler.fit_transform(X_train)\n",
    "X_test_scaled = scaler.transform(X_test)\n",
    "\n",
    "linridge_normal = linear_model.Ridge(alpha=20.0).fit(X_train_scaled, y_train)\n",
    "\n",
    "print('ridge regression linear model intercept: {}'.format(linridge_normal.intercept_))\n",
    "print('ridge regression linear model coeff:\\n{}'.format(linridge_normal.coef_))\n",
    "print('R-squared score (training): {:.3f}'.format(linridge_normal.score(X_train_scaled, y_train)))\n",
    "print('R-squared score (test): {:.3f}'.format(linridge_normal.score(X_test_scaled, y_test)))\n",
    "print('Number of non-zero features: {}'.format(np.sum(linridge_normal.coef_ != 0)))"
   ]
  },
  {
   "cell_type": "code",
   "execution_count": 13,
   "metadata": {},
   "outputs": [
    {
     "name": "stdout",
     "output_type": "stream",
     "text": [
      "R-squared train score: 0.90389\nR-squared test score: 0.75411\n"
     ]
    }
   ],
   "source": [
    "# K-nearest regression - 5 neighbors\n",
    "scaler = MinMaxScaler()\n",
    "X_train_scaled = scaler.fit_transform(X_train)\n",
    "X_test_scaled = scaler.transform(X_test)\n",
    "knn_reg5_uni = KNeighborsRegressor(n_neighbors=5).fit(X_train_scaled, y_train)\n",
    "\n",
    "#print(knn_reg5_uni.predict(X_test_scaled))\n",
    "print('R-squared train score: {:.5f}'.format(knn_reg5_uni.score(X_train_scaled, y_train)))\n",
    "print('R-squared test score: {:.5f}'.format(knn_reg5_uni.score(X_test_scaled, y_test)))"
   ]
  },
  {
   "cell_type": "code",
   "execution_count": 11,
   "metadata": {},
   "outputs": [
    {
     "name": "stdout",
     "output_type": "stream",
     "text": [
      "R-squared train score: 0.92577\nR-squared test score: 0.82880\n"
     ]
    }
   ],
   "source": [
    "# K-nearest regression - 3 neighbors\n",
    "scaler = MinMaxScaler()\n",
    "X_train_scaled = scaler.fit_transform(X_train)\n",
    "X_test_scaled = scaler.transform(X_test)\n",
    "knn_reg5_uni = KNeighborsRegressor(n_neighbors=3).fit(X_train_scaled, y_train)\n",
    "\n",
    "#print(knn_reg5_uni.predict(X_test_scaled))\n",
    "print('R-squared train score: {:.5f}'.format(knn_reg5_uni.score(X_train_scaled, y_train)))\n",
    "print('R-squared test score: {:.5f}'.format(knn_reg5_uni.score(X_test_scaled, y_test)))"
   ]
  },
  {
   "cell_type": "code",
   "execution_count": 12,
   "metadata": {},
   "outputs": [
    {
     "name": "stdout",
     "output_type": "stream",
     "text": [
      "R-squared train score: 1.00000\nR-squared test score: 0.93855\n"
     ]
    }
   ],
   "source": [
    "# K-nearest regression - 5 neighbors, weights = distance\n",
    "scaler = MinMaxScaler()\n",
    "X_train_scaled = scaler.fit_transform(X_train)\n",
    "X_test_scaled = scaler.transform(X_test)\n",
    "knn_reg5 = KNeighborsRegressor(n_neighbors=3, weights='distance').fit(X_train_scaled, y_train)\n",
    "\n",
    "#print(knn_reg5.predict(X_test_scaled))\n",
    "print('R-squared train score: {:.5f}'.format(knn_reg5.score(X_train_scaled, y_train)))\n",
    "print('R-squared test score: {:.5f}'.format(knn_reg5.score(X_test_scaled, y_test)))"
   ]
  },
  {
   "cell_type": "code",
   "execution_count": null,
   "metadata": {},
   "outputs": [],
   "source": []
  }
 ],
 "metadata": {
  "kernelspec": {
   "display_name": "Python 3",
   "language": "python",
   "name": "python3"
  },
  "language_info": {
   "codemirror_mode": {
    "name": "ipython",
    "version": 3
   },
   "file_extension": ".py",
   "mimetype": "text/x-python",
   "name": "python",
   "nbconvert_exporter": "python",
   "pygments_lexer": "ipython3",
   "version": "3.7.0"
  }
 },
 "nbformat": 4,
 "nbformat_minor": 1
}
